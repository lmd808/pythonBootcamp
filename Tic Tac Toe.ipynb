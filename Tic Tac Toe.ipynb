{
 "cells": [
  {
   "cell_type": "code",
   "execution_count": 146,
   "metadata": {},
   "outputs": [],
   "source": [
    "game_list = {'Row1': [1,2,3], 'Row2':[1,2,3], 'Row3': [1,2,3]} "
   ]
  },
  {
   "cell_type": "code",
   "execution_count": 147,
   "metadata": {},
   "outputs": [],
   "source": [
    "def playGame():\n",
    "    game_list = {'Row1': [1,2,3], 'Row2':[1,2,3], 'Row3': [1,2,3]} \n",
    "    xo ='no selection'\n",
    "    while xo.lower() not in ['x', 'o']:\n",
    "        xo = input(('Would you like to play as x or o'))\n",
    "        if xo.lower() not in ['x', 'o'] : \n",
    "            print('Sorry, that is an invalid choice. x or o ')\n",
    "            \n",
    "    return displayGame(game_list, xo)   "
   ]
  },
  {
   "cell_type": "code",
   "execution_count": 148,
   "metadata": {},
   "outputs": [],
   "source": [
    "def displayGame (game_list, xo):\n",
    "    print('Here is the current board')\n",
    "    print(game_list['Row1'])\n",
    "    print(game_list['Row2'])\n",
    "    print(game_list['Row3'])\n",
    "    pic_a_row(xo)\n",
    "    "
   ]
  },
  {
   "cell_type": "code",
   "execution_count": 149,
   "metadata": {},
   "outputs": [],
   "source": [
    "def pic_a_row(xo): \n",
    "    choice = 'wrong'\n",
    "    while choice not in ['1','2','3']:\n",
    "        choice = input(('Pick a row (1,2,3):'))\n",
    "        if choice not in ['1','2','3'] : \n",
    "            print('Sorry, that is an invalid choice. Please pick 1, 2, or 3: ')\n",
    "    return pic_a_col(int(choice), xo)      \n",
    "        "
   ]
  },
  {
   "cell_type": "code",
   "execution_count": 150,
   "metadata": {},
   "outputs": [],
   "source": [
    "def pic_a_col (choice, xo): \n",
    "    columnChoice = 'Wrong'\n",
    "    if(choice == 1):\n",
    "        return col_update(game_list['Row1'], xo)\n",
    "    elif(choice == 2):\n",
    "        return col_update(game_list['Row2'], xo)\n",
    "    elif(choice ==3):\n",
    "        return col_update(game_list['Row3'], xo)"
   ]
  },
  {
   "cell_type": "code",
   "execution_count": 151,
   "metadata": {},
   "outputs": [],
   "source": [
    "def col_update(column, xo):\n",
    "    columnChoice = 'Wrong' \n",
    "    print('Now Choose a colum')\n",
    "    columnChoice = input(column)\n",
    "    if columnChoice not in ['1','2','3'] : \n",
    "        print('Sorry, that is an invalid choice. Pick another Column:')\n",
    "    index = int(columnChoice) - 1\n",
    "    return(update_index(column, index, xo))\n",
    "    "
   ]
  },
  {
   "cell_type": "code",
   "execution_count": 152,
   "metadata": {},
   "outputs": [],
   "source": [
    "def update_index (column,index, xo):\n",
    "    column[index] = xo\n",
    "    check_for_win(xo)\n",
    "    if check_for_win(xo):\n",
    "        play_again()\n",
    "    else: \n",
    "        displayGame(game_list, xo)\n",
    "        \n",
    "    "
   ]
  },
  {
   "cell_type": "code",
   "execution_count": null,
   "metadata": {},
   "outputs": [],
   "source": [
    "def check_for_win(xo): \n",
    "    #same row === xo\n",
    "    if (game_list['Row1'].count(xo) == len(game_list['Row1']) or game_list['Row2'].count(xo) == len(game_list['Row2']) or game_list['Row3'].count(xo) == len(game_list['Row3'])):\n",
    "        return True\n",
    "    #index 1,2,3 diagnal === xo\n",
    "    elif(game_list['Row1'][0] == xo and game_list['Row2'][1] == xo and game_list['Row3'][2] == xo):\n",
    "        return True\n",
    "    #index 3,2,1 diagonal === xo \n",
    "    elif(game_list['Row1'][2] == xo and game_list['Row2'][1]== xo and game_list['Row3'][0] == xo):\n",
    "        return True\n",
    "    #index 1,1,1, === xo \n",
    "    elif(game_list['Row1'][0] == xo and game_list['Row2'][0] == xo and game_list['Row3'][0] == xo):\n",
    "        return True\n",
    "    #index 222 === xo \n",
    "    elif(game_list['Row1'][1] == xo and game_list['Row2'][1] == xo and game_list['Row3'][1] == xo):\n",
    "        return True\n",
    "    #index 333 === xo\n",
    "    elif(game_list['Row1'][2] == xo and game_list['Row2'][2] == xo and game_list['Row3'][2] == xo):\n",
    "        return True"
   ]
  },
  {
   "cell_type": "code",
   "execution_count": 153,
   "metadata": {},
   "outputs": [],
   "source": [
    "def play_again():\n",
    "    choice = 'No'\n",
    "    while choice.lower() not in ['y', 'n']:\n",
    "        choice = input(('Would you like to play again? Y of N: '))\n",
    "        if choice.lower() not in ['y', 'n']: \n",
    "            print('Sorry, that is an invalid choice. Please pick Y or N: ')\n",
    "    if choice.lower() == 'y':\n",
    "        playGame()\n",
    "    elif choice.lower() == 'n':\n",
    "        print('Thanks for playing! Run playGame() to start a new round!')\n",
    "        \n",
    "\n",
    "    "
   ]
  },
  {
   "cell_type": "code",
   "execution_count": null,
   "metadata": {},
   "outputs": [
    {
     "name": "stdout",
     "output_type": "stream",
     "text": [
      "Would you like to play as x or ox\n",
      "Here is the current board\n",
      "[1, 2, 3]\n",
      "[1, 2, 3]\n",
      "[1, 2, 3]\n",
      "Pick a row (1,2,3):1\n",
      "Now Choose a colum\n",
      "[1, 2, 3]1\n",
      "Here is the current board\n",
      "['x', 2, 3]\n",
      "[1, 2, 3]\n",
      "[1, 2, 3]\n",
      "Pick a row (1,2,3):1\n",
      "Now Choose a colum\n",
      "['x', 2, 3]2\n",
      "Here is the current board\n",
      "['x', 'x', 3]\n",
      "[1, 2, 3]\n",
      "[1, 2, 3]\n",
      "Pick a row (1,2,3):1\n",
      "Now Choose a colum\n",
      "['x', 'x', 3]3\n",
      "Would you like to play again? Y of N: y\n",
      "Would you like to play as x or ox\n",
      "Here is the current board\n",
      "[1, 2, 3]\n",
      "[1, 2, 3]\n",
      "[1, 2, 3]\n"
     ]
    }
   ],
   "source": [
    "playGame()"
   ]
  },
  {
   "cell_type": "code",
   "execution_count": null,
   "metadata": {},
   "outputs": [],
   "source": []
  },
  {
   "cell_type": "code",
   "execution_count": null,
   "metadata": {},
   "outputs": [],
   "source": [
    "\n"
   ]
  }
 ],
 "metadata": {
  "kernelspec": {
   "display_name": "Python 3",
   "language": "python",
   "name": "python3"
  },
  "language_info": {
   "codemirror_mode": {
    "name": "ipython",
    "version": 3
   },
   "file_extension": ".py",
   "mimetype": "text/x-python",
   "name": "python",
   "nbconvert_exporter": "python",
   "pygments_lexer": "ipython3",
   "version": "3.7.6"
  }
 },
 "nbformat": 4,
 "nbformat_minor": 4
}
