{
 "cells": [
  {
   "cell_type": "code",
   "execution_count": null,
   "metadata": {},
   "outputs": [],
   "source": [
    "game_list = {'Row1': [1,2,3], 'Row2':[1,2,3], 'Row3': [1,2,3]} "
   ]
  },
  {
   "cell_type": "code",
   "execution_count": null,
   "metadata": {
    "scrolled": true
   },
   "outputs": [],
   "source": [
    "print(game_list['Row1'])\n",
    "print(game_list['Row2'])\n",
    "print(game_list['Row3'])"
   ]
  },
  {
   "cell_type": "code",
   "execution_count": null,
   "metadata": {},
   "outputs": [],
   "source": [
    "xo = \"\""
   ]
  },
  {
   "cell_type": "code",
   "execution_count": null,
   "metadata": {},
   "outputs": [],
   "source": [
    "def playGame():\n",
    "    xo ='no selection'\n",
    "    while xo not in ['x', 'o']:\n",
    "        xo = input(('Would you like to play as x or o'))\n",
    "        if xo.lower() not in ['x', 'o'] : \n",
    "            print('Sorry, that is an invalid choice. x or o ')\n",
    "    return displayGame(game_list, xo)   "
   ]
  },
  {
   "cell_type": "code",
   "execution_count": null,
   "metadata": {},
   "outputs": [],
   "source": [
    "def displayGame (game_list):\n",
    "    print('Here is the current board')\n",
    "    print(game_list['Row1'])\n",
    "    print(game_list['Row2'])\n",
    "    print(game_list['Row3'])\n",
    "    print ('made it here')\n",
    "    # pic_a_row()\n",
    "    "
   ]
  },
  {
   "cell_type": "code",
   "execution_count": null,
   "metadata": {},
   "outputs": [],
   "source": [
    "displayGame(game_list)"
   ]
  },
  {
   "cell_type": "code",
   "execution_count": null,
   "metadata": {},
   "outputs": [],
   "source": [
    "def pic_a_row(): \n",
    "    choice = 'wrong'\n",
    "    while choice not in ['1','2','3']:\n",
    "        choice = input(('Pick a row (1,2,3):'))\n",
    "        if choice not in ['1','2','3'] : \n",
    "            print('Sorry, that is an invalid choice. Please pick 1, 2, or 3: ')\n",
    "    return pic_a_col(int(choice))      \n",
    "        "
   ]
  },
  {
   "cell_type": "code",
   "execution_count": null,
   "metadata": {},
   "outputs": [],
   "source": [
    "def pic_a_col (choice): \n",
    "    columnChoice = 'Wrong'\n",
    "    if(choice == 1):\n",
    "        return col_update(game_list['Row1'])\n",
    "    elif(choice == 2):\n",
    "        return col_update(game_list['Row2'])\n",
    "    elif(choice ==3):\n",
    "        return col_update(game_list['Row3'])"
   ]
  },
  {
   "cell_type": "code",
   "execution_count": null,
   "metadata": {},
   "outputs": [],
   "source": [
    "def col_update(column):\n",
    "    columnChoice = 'Wrong' \n",
    "    print('Now Choose a colum')\n",
    "    columnChoice = input(column)\n",
    "    if columnChoice not in ['1','2','3'] : \n",
    "        print('Sorry, that is an invalid choice. Pick another Column:')\n",
    "    index = int(columnChoice) - 1\n",
    "    return(update_index(column, columnChoice))\n",
    "    "
   ]
  },
  {
   "cell_type": "code",
   "execution_count": null,
   "metadata": {},
   "outputs": [],
   "source": [
    "def update_index (column,index):\n",
    "    print('weve selected a column' + index)\n",
    "    "
   ]
  },
  {
   "cell_type": "code",
   "execution_count": null,
   "metadata": {},
   "outputs": [],
   "source": [
    "playGame()"
   ]
  },
  {
   "cell_type": "code",
   "execution_count": null,
   "metadata": {},
   "outputs": [],
   "source": []
  },
  {
   "cell_type": "code",
   "execution_count": null,
   "metadata": {},
   "outputs": [],
   "source": []
  },
  {
   "cell_type": "code",
   "execution_count": null,
   "metadata": {},
   "outputs": [],
   "source": []
  }
 ],
 "metadata": {
  "kernelspec": {
   "display_name": "Python 3",
   "language": "python",
   "name": "python3"
  },
  "language_info": {
   "codemirror_mode": {
    "name": "ipython",
    "version": 3
   },
   "file_extension": ".py",
   "mimetype": "text/x-python",
   "name": "python",
   "nbconvert_exporter": "python",
   "pygments_lexer": "ipython3",
   "version": "3.7.6"
  }
 },
 "nbformat": 4,
 "nbformat_minor": 4
}
